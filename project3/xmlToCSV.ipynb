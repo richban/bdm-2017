{
 "cells": [
  {
   "cell_type": "code",
   "execution_count": 2,
   "metadata": {},
   "outputs": [],
   "source": [
    "import xml.etree.ElementTree as ET"
   ]
  },
  {
   "cell_type": "code",
   "execution_count": 3,
   "metadata": {},
   "outputs": [],
   "source": [
    "tree = ET.parse(\"./data/99ts.xml\")\n",
    "root = tree.getroot()"
   ]
  },
  {
   "cell_type": "code",
   "execution_count": 4,
   "metadata": {},
   "outputs": [
    {
     "data": {
      "text/plain": [
       "<Element 'fcd-export' at 0x108884f48>"
      ]
     },
     "execution_count": 4,
     "metadata": {},
     "output_type": "execute_result"
    }
   ],
   "source": [
    "root"
   ]
  },
  {
   "cell_type": "code",
   "execution_count": 32,
   "metadata": {},
   "outputs": [
    {
     "name": "stdout",
     "output_type": "stream",
     "text": [
      "{'time': '0.00'}\n",
      "{'time': '1.00'}\n",
      "{'time': '2.00'}\n",
      "{'time': '3.00'}\n",
      "{'time': '4.00'}\n",
      "{'time': '5.00'}\n",
      "{'time': '6.00'}\n",
      "{'time': '7.00'}\n",
      "{'time': '8.00'}\n",
      "{'time': '9.00'}\n",
      "{'time': '10.00'}\n",
      "{'time': '11.00'}\n",
      "{'time': '12.00'}\n",
      "{'time': '13.00'}\n",
      "{'time': '14.00'}\n",
      "{'time': '15.00'}\n",
      "{'time': '16.00'}\n",
      "{'time': '17.00'}\n",
      "{'time': '18.00'}\n",
      "{'time': '19.00'}\n",
      "{'time': '20.00'}\n",
      "{'time': '21.00'}\n",
      "{'time': '22.00'}\n",
      "{'time': '23.00'}\n",
      "{'time': '24.00'}\n",
      "{'time': '25.00'}\n",
      "{'time': '26.00'}\n",
      "{'time': '27.00'}\n",
      "{'time': '28.00'}\n",
      "{'time': '29.00'}\n",
      "{'time': '30.00'}\n",
      "{'time': '31.00'}\n",
      "{'time': '32.00'}\n",
      "{'time': '33.00'}\n",
      "{'time': '34.00'}\n",
      "{'time': '35.00'}\n",
      "{'time': '36.00'}\n",
      "{'time': '37.00'}\n",
      "{'time': '38.00'}\n",
      "{'time': '39.00'}\n",
      "{'time': '40.00'}\n",
      "{'time': '41.00'}\n",
      "{'time': '42.00'}\n",
      "{'time': '43.00'}\n",
      "{'time': '44.00'}\n",
      "{'time': '45.00'}\n",
      "{'time': '46.00'}\n",
      "{'time': '47.00'}\n",
      "{'time': '48.00'}\n",
      "{'time': '49.00'}\n",
      "{'time': '50.00'}\n",
      "{'time': '51.00'}\n",
      "{'time': '52.00'}\n",
      "{'time': '53.00'}\n",
      "{'time': '54.00'}\n",
      "{'time': '55.00'}\n",
      "{'time': '56.00'}\n",
      "{'time': '57.00'}\n",
      "{'time': '58.00'}\n",
      "{'time': '59.00'}\n",
      "{'time': '60.00'}\n",
      "{'time': '61.00'}\n",
      "{'time': '62.00'}\n",
      "{'time': '63.00'}\n",
      "{'time': '64.00'}\n",
      "{'time': '65.00'}\n",
      "{'time': '66.00'}\n",
      "{'time': '67.00'}\n",
      "{'time': '68.00'}\n",
      "{'time': '69.00'}\n",
      "{'time': '70.00'}\n",
      "{'time': '71.00'}\n",
      "{'time': '72.00'}\n",
      "{'time': '73.00'}\n",
      "{'time': '74.00'}\n",
      "{'time': '75.00'}\n",
      "{'time': '76.00'}\n",
      "{'time': '77.00'}\n",
      "{'time': '78.00'}\n",
      "{'time': '79.00'}\n",
      "{'time': '80.00'}\n",
      "{'time': '81.00'}\n",
      "{'time': '82.00'}\n",
      "{'time': '83.00'}\n",
      "{'time': '84.00'}\n",
      "{'time': '85.00'}\n",
      "{'time': '86.00'}\n",
      "{'time': '87.00'}\n",
      "{'time': '88.00'}\n",
      "{'time': '89.00'}\n",
      "{'time': '90.00'}\n",
      "{'time': '91.00'}\n",
      "{'time': '92.00'}\n",
      "{'time': '93.00'}\n",
      "{'time': '94.00'}\n",
      "{'time': '95.00'}\n",
      "{'time': '96.00'}\n",
      "{'time': '97.00'}\n",
      "{'time': '98.00'}\n",
      "{'time': '99.00'}\n"
     ]
    }
   ],
   "source": [
    "for timestamp in root:\n",
    "    for time in timestamp:\n",
    "        print(timestamp.attrib)\n",
    "        if time.tag == 'vehicle':\n",
    "            break;\n",
    "        if time.tag == 'person':\n",
    "            break;"
   ]
  },
  {
   "cell_type": "code",
   "execution_count": 17,
   "metadata": {},
   "outputs": [
    {
     "data": {
      "text/plain": [
       "[]"
      ]
     },
     "execution_count": 17,
     "metadata": {},
     "output_type": "execute_result"
    }
   ],
   "source": []
  },
  {
   "cell_type": "code",
   "execution_count": null,
   "metadata": {},
   "outputs": [],
   "source": []
  }
 ],
 "metadata": {
  "kernelspec": {
   "display_name": "Python 3",
   "language": "python",
   "name": "python3"
  },
  "language_info": {
   "codemirror_mode": {
    "name": "ipython",
    "version": 3
   },
   "file_extension": ".py",
   "mimetype": "text/x-python",
   "name": "python",
   "nbconvert_exporter": "python",
   "pygments_lexer": "ipython3",
   "version": "3.6.2"
  }
 },
 "nbformat": 4,
 "nbformat_minor": 2
}
